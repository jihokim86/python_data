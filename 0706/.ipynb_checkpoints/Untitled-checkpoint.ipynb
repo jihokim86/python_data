{
 "cells": [
  {
   "cell_type": "code",
   "execution_count": 10,
   "id": "6a55d660",
   "metadata": {},
   "outputs": [
    {
     "ename": "IndentationError",
     "evalue": "unindent does not match any outer indentation level (<tokenize>, line 11)",
     "output_type": "error",
     "traceback": [
      "\u001b[1;36m  File \u001b[1;32m<tokenize>:11\u001b[1;36m\u001b[0m\n\u001b[1;33m    t.up()\u001b[0m\n\u001b[1;37m    ^\u001b[0m\n\u001b[1;31mIndentationError\u001b[0m\u001b[1;31m:\u001b[0m unindent does not match any outer indentation level\n"
     ]
    }
   ],
   "source": [
    "import turtle\n",
    "\n",
    "t = turtle.Turtle()\n",
    "t.shape(\"turtle\")\n",
    "\n",
    "def square(length) :\n",
    "   t.down()\n",
    "   for i in range(4) :\n",
    "     t.forward(length)\n",
    "     t.left(90)\n",
    "    t.up()\n",
    "    \n",
    "square(100)\n",
    "t.forward(120)\n",
    "square(100)\n",
    "t.forward(120)\n",
    "square(100)\n",
    "\n",
    "turtle.mainloop()\n",
    "turtle.bye()"
   ]
  }
 ],
 "metadata": {
  "kernelspec": {
   "display_name": "Python 3 (ipykernel)",
   "language": "python",
   "name": "python3"
  },
  "language_info": {
   "codemirror_mode": {
    "name": "ipython",
    "version": 3
   },
   "file_extension": ".py",
   "mimetype": "text/x-python",
   "name": "python",
   "nbconvert_exporter": "python",
   "pygments_lexer": "ipython3",
   "version": "3.9.12"
  }
 },
 "nbformat": 4,
 "nbformat_minor": 5
}
