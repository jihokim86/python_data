{
 "cells": [
  {
   "cell_type": "markdown",
   "id": "bf667a42",
   "metadata": {},
   "source": [
    "#입력과출력"
   ]
  },
  {
   "cell_type": "code",
   "execution_count": 1,
   "id": "0a6abca8",
   "metadata": {
    "scrolled": true
   },
   "outputs": [
    {
     "name": "stdout",
     "output_type": "stream",
     "text": [
      "이름을 입력하세요김지호\n",
      "김지호 씨, 안녕하세요?\n",
      "파이썬에 오신 것을 환영합니다\n"
     ]
    }
   ],
   "source": [
    "name = input(\"이름을 입력하세요\")\n",
    "print(name,\"씨, 안녕하세요?\")\n",
    "print(\"파이썬에 오신 것을 환영합니다\")"
   ]
  },
  {
   "cell_type": "code",
   "execution_count": 5,
   "id": "d73df263",
   "metadata": {
    "scrolled": true
   },
   "outputs": [
    {
     "name": "stdout",
     "output_type": "stream",
     "text": [
      "첫번째 정수를 입력하세요1\n",
      "두번째 정수를 입력하세요2\n",
      "합은 3\n"
     ]
    }
   ],
   "source": [
    "s1 = input(\"첫번째 정수를 입력하세요\")\n",
    "x=int(s1)\n",
    "s2 = input(\"두번째 정수를 입력하세요\")\n",
    "y=int(s2)\n",
    "sum = x+y\n",
    "print(\"합은\",sum)"
   ]
  },
  {
   "cell_type": "code",
   "execution_count": 7,
   "id": "d1c15327",
   "metadata": {},
   "outputs": [
    {
     "name": "stdout",
     "output_type": "stream",
     "text": [
      "면적(제곱미터):25.6\n",
      "7.757575757575759 평\n"
     ]
    }
   ],
   "source": [
    "#부동소수점float\n",
    "#eval은 데이터에 따라 실수 또는 정수로 변환\n",
    "SQMETER_PER_P = 3.3\n",
    "#area = float(input(\"면적(제곱미터):\"))\n",
    "area = eval(input(\"면적(제곱미터):\"))\n",
    "py = area / SQMETER_PER_P\n",
    "print(py,\"평\")"
   ]
  },
  {
   "cell_type": "code",
   "execution_count": 8,
   "id": "72089c40",
   "metadata": {
    "scrolled": false
   },
   "outputs": [
    {
     "name": "stdout",
     "output_type": "stream",
     "text": [
      "면적(제곱미터):25\n",
      "7.58 평\n"
     ]
    }
   ],
   "source": [
    "#형식화된 출력\n",
    "SQMETER_PER_P = 3.3\n",
    "#area = float(input(\"면적(제곱미터):\"))\n",
    "area = eval(input(\"면적(제곱미터):\"))\n",
    "py = area / SQMETER_PER_P\n",
    "print(\"%.2f\" %py,\"평\")"
   ]
  },
  {
   "cell_type": "code",
   "execution_count": 9,
   "id": "1f58035a",
   "metadata": {
    "scrolled": true
   },
   "outputs": [
    {
     "name": "stdout",
     "output_type": "stream",
     "text": [
      "안녕하세요\n",
      "이름이 어떻게 되시나요?김지호\n",
      "만나서 반값습니다.김지호씨\n",
      "이름의 길이는 다음과 같군요 :  3\n",
      "나이가 어떻게 되나요?20\n",
      "내년이면21이 되시는군요\n"
     ]
    }
   ],
   "source": [
    "#대화형 프로그램\n",
    "print(\"안녕하세요\")\n",
    "name = input(\"이름이 어떻게 되시나요?\")\n",
    "print(\"만나서 반값습니다.\" + name+\"씨\")\n",
    "print(\"이름의 길이는 다음과 같군요 : \", len(name))\n",
    "\n",
    "age = int(input(\"나이가 어떻게 되나요?\"))\n",
    "print(\"내년이면\"+str(age+1)+\"이 되시는군요\")"
   ]
  },
  {
   "cell_type": "code",
   "execution_count": 12,
   "id": "39ea47de",
   "metadata": {},
   "outputs": [
    {
     "name": "stdout",
     "output_type": "stream",
     "text": [
      "몸무게 kg 단위를 입력하세요70\n",
      "키를 미터 단위를 입력하세요1.8\n",
      "당신의 BMI= 21.604938271604937\n"
     ]
    }
   ],
   "source": [
    "#BMI 계산하기\n",
    "#BMI < 18.50 저체중\n",
    "#BMI > 18.50 ~ 24.99 표준체중\n",
    "#BMI < 24.99 ~ 29.99 과체중\n",
    "#BMI > 29.99 비만\n",
    "\n",
    "weight = float(input(\"몸무게 kg 단위를 입력하세요\"))\n",
    "height = float(input(\"키를 미터 단위를 입력하세요\"))\n",
    "\n",
    "bmi = (weight/(height**2))\n",
    "print(\"당신의 BMI=\",bmi)"
   ]
  },
  {
   "cell_type": "code",
   "execution_count": 14,
   "id": "516eeaef",
   "metadata": {
    "scrolled": true
   },
   "outputs": [
    {
     "name": "stdout",
     "output_type": "stream",
     "text": [
      "반지름을 입력하세요 : 5.0\n",
      "구의 부피=    523.60\n"
     ]
    }
   ],
   "source": [
    "#구의 부피 계산\n",
    "r= float(input(\"반지름을 입력하세요 : \"))\n",
    "\n",
    "#구의 부피 공식\n",
    "volume = (4.0/3.0)*3.141592*r**3\n",
    "\n",
    "#구의 부피를 화면에 출력\n",
    "print(\"구의 부피=%10.2f\"%volume)"
   ]
  },
  {
   "cell_type": "code",
   "execution_count": null,
   "id": "97c09cb7",
   "metadata": {},
   "outputs": [],
   "source": []
  }
 ],
 "metadata": {
  "kernelspec": {
   "display_name": "Python 3 (ipykernel)",
   "language": "python",
   "name": "python3"
  },
  "language_info": {
   "codemirror_mode": {
    "name": "ipython",
    "version": 3
   },
   "file_extension": ".py",
   "mimetype": "text/x-python",
   "name": "python",
   "nbconvert_exporter": "python",
   "pygments_lexer": "ipython3",
   "version": "3.9.12"
  }
 },
 "nbformat": 4,
 "nbformat_minor": 5
}
