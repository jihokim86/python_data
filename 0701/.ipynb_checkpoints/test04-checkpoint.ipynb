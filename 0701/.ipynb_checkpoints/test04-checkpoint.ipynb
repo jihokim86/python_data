{
 "cells": [
  {
   "cell_type": "code",
   "execution_count": 4,
   "id": "8c360a09",
   "metadata": {},
   "outputs": [
    {
     "name": "stdout",
     "output_type": "stream",
     "text": [
      "상품의 가격: 200\n",
      "배송비= 3000\n"
     ]
    }
   ],
   "source": [
    "#배송비 계산 프로그램\n",
    "\n",
    "price = int(input(\"상품의 가격: \"))\n",
    "\n",
    "#배송비를 결정한다.\n",
    "if price > 20000 :\n",
    "    shopping_cost = 0\n",
    "else : \n",
    "    shopping_cost = 3000\n",
    "    \n",
    "#배송비를 출력\n",
    "print(\"배송비=\", shopping_cost)"
   ]
  },
  {
   "cell_type": "code",
   "execution_count": 5,
   "id": "0fa9c3cf",
   "metadata": {},
   "outputs": [
    {
     "name": "stdout",
     "output_type": "stream",
     "text": [
      "False\n"
     ]
    }
   ],
   "source": [
    "# 관계연산자\n",
    "\n",
    "s1 = \"안녕하세요\"\n",
    "s2 = \"Hello\"\n",
    "print(s1<s2)"
   ]
  },
  {
   "cell_type": "code",
   "execution_count": 2,
   "id": "ff3f9c9f",
   "metadata": {
    "scrolled": false
   },
   "outputs": [
    {
     "name": "stdout",
     "output_type": "stream",
     "text": [
      "2.9999999999999996\n",
      "0\n",
      "sqrt(3.0)*sqrt(3.0)은 3.0과 같다.\n"
     ]
    }
   ],
   "source": [
    "#실수와 실수 비교\n",
    "\n",
    "from math import sqrt \n",
    "\n",
    "n=sqrt(3.0)\n",
    "print(n*n)\n",
    "print(abs(n*n==3.0))\n",
    "if abs(n*n-3.0)<0.00001 :\n",
    "    print(\"sqrt(3.0)*sqrt(3.0)은 3.0과 같다.\")\n",
    "else : \n",
    "    print(\"sqrt(3.0)*sqrt(3.0)은 3.0과 같지 않다\")"
   ]
  },
  {
   "cell_type": "code",
   "execution_count": 12,
   "id": "84f85463",
   "metadata": {},
   "outputs": [
    {
     "name": "stdout",
     "output_type": "stream",
     "text": [
      "32+11=43\n",
      "True\n"
     ]
    }
   ],
   "source": [
    "# 산술 문제 출제 프로그램\n",
    "#f 문자열은 { }로 감싸서 문자열 안에 넣을 수 있음.\n",
    "import random\n",
    "\n",
    "x= random.randint(1,100)\n",
    "y= random.randint(1,100)\n",
    "\n",
    "answer = int(input(f\"{x}+{y}=\"))\n",
    "\n",
    "#부울 변수에 결과를 저장하고 출력\n",
    "flag = (answer == (x+y))\n",
    "print(flag)"
   ]
  },
  {
   "cell_type": "code",
   "execution_count": 17,
   "id": "1e8de0b6",
   "metadata": {
    "scrolled": true
   },
   "outputs": [
    {
     "name": "stdout",
     "output_type": "stream",
     "text": [
      "x값 입력 :1\n",
      "y값 입력 :2\n",
      "x의 절대값 1\n",
      "최대값 2\n",
      "최소값 1\n"
     ]
    }
   ],
   "source": [
    "#조건연산자 - 삼항연산자\n",
    "x = eval(input(\"x값 입력 :\"))\n",
    "y = eval(input(\"y값 입력 :\"))\n",
    "\n",
    "absolute_value = (x if x>0 else -x) #절대값\n",
    "max_value = (x if x>y else y)  #최대값\n",
    "min_value = (x if x<y else y)  #최소값\n",
    "\n",
    "print(\"x의 절대값\",absolute_value)\n",
    "print(\"최대값\",max_value)\n",
    "print(\"최소값\",min_value)"
   ]
  },
  {
   "cell_type": "code",
   "execution_count": 29,
   "id": "950bc392",
   "metadata": {},
   "outputs": [
    {
     "name": "stdout",
     "output_type": "stream",
     "text": [
      "온도를 입력하세요130\n",
      "물의 상태는 기체입니다.\n"
     ]
    }
   ],
   "source": [
    "#온도에 따른 물의 상태\n",
    "\n",
    "temp = float(input(\"온도를 입력하세요\"))\n",
    "if temp <= 0 :\n",
    "    print(\"물의 상태는 얼음입니다.\")\n",
    "elif temp>0 and temp<100 :\n",
    "    print(\"물의 상태는 액체입니다.\")\n",
    "else :\n",
    "    print(\"물의 상태는 기체입니다.\")"
   ]
  }
 ],
 "metadata": {
  "kernelspec": {
   "display_name": "Python 3 (ipykernel)",
   "language": "python",
   "name": "python3"
  },
  "language_info": {
   "codemirror_mode": {
    "name": "ipython",
    "version": 3
   },
   "file_extension": ".py",
   "mimetype": "text/x-python",
   "name": "python",
   "nbconvert_exporter": "python",
   "pygments_lexer": "ipython3",
   "version": "3.9.12"
  }
 },
 "nbformat": 4,
 "nbformat_minor": 5
}
