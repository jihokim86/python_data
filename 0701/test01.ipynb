{
 "cells": [
  {
   "cell_type": "code",
   "execution_count": 8,
   "id": "8c360a09",
   "metadata": {},
   "outputs": [
    {
     "name": "stdout",
     "output_type": "stream",
     "text": [
      "원리금 합계= 162.8894626777442\n"
     ]
    }
   ],
   "source": [
    "#원리금 합계 구하기\n",
    "a=100\n",
    "r=0.05\n",
    "n=10\n",
    "result = a*(1+r)**n\n",
    "\n",
    "print(\"원리금 합계=\",result)"
   ]
  },
  {
   "cell_type": "code",
   "execution_count": 9,
   "id": "1ee7a0cc",
   "metadata": {},
   "outputs": [
    {
     "name": "stdout",
     "output_type": "stream",
     "text": [
      "1\n"
     ]
    }
   ],
   "source": [
    "a=10\n",
    "b=1\n",
    "result = b**a\n",
    "print(result)"
   ]
  },
  {
   "cell_type": "code",
   "execution_count": 16,
   "id": "91fe45fb",
   "metadata": {},
   "outputs": [
    {
     "name": "stdout",
     "output_type": "stream",
     "text": [
      "925.875\n"
     ]
    }
   ],
   "source": [
    "price = 12345\n",
    "tax = price * 0.075\n",
    "tax = round(tax,3)\n",
    "print(tax)"
   ]
  },
  {
   "cell_type": "code",
   "execution_count": 17,
   "id": "a4ee763c",
   "metadata": {
    "scrolled": true
   },
   "outputs": [
    {
     "name": "stdout",
     "output_type": "stream",
     "text": [
      "hello\n",
      "hi\n"
     ]
    }
   ],
   "source": [
    "msg = \"hello\"\n",
    "print(msg)\n",
    "msg='hi'\n",
    "print(msg)"
   ]
  },
  {
   "cell_type": "code",
   "execution_count": 19,
   "id": "167ef0e5",
   "metadata": {
    "scrolled": true
   },
   "outputs": [
    {
     "name": "stdout",
     "output_type": "stream",
     "text": [
      "\n",
      "안녕하세요~\n",
      "지금~\n",
      "머할까 궁금한데!\n",
      "파이썬\n",
      "배워야하나~\n",
      "\n",
      "\n"
     ]
    }
   ],
   "source": [
    "#세 따움표 문자열 - 여러줄 표시 가능\n",
    "a= \"\"\"\n",
    "안녕하세요~\n",
    "지금~\n",
    "머할까 궁금한데!\n",
    "파이썬\n",
    "배워야하나~\n",
    "\n",
    "\"\"\"\n",
    "print(a)"
   ]
  },
  {
   "cell_type": "code",
   "execution_count": 20,
   "id": "ecea40d2",
   "metadata": {
    "scrolled": true
   },
   "outputs": [
    {
     "name": "stdout",
     "output_type": "stream",
     "text": [
      "\n",
      "1.시작\n",
      "2.수정\n",
      "3.삭제\n",
      "==>번호를 선택하세요:\n",
      "\n"
     ]
    }
   ],
   "source": [
    "menu=\"\"\"\n",
    "1.시작\n",
    "2.수정\n",
    "3.삭제\n",
    "==>번호를 선택하세요:\n",
    "\"\"\"\n",
    "print(menu)"
   ]
  },
  {
   "cell_type": "code",
   "execution_count": 21,
   "id": "40c806e4",
   "metadata": {
    "scrolled": true
   },
   "outputs": [
    {
     "data": {
      "text/plain": [
       "'helloworld'"
      ]
     },
     "execution_count": 21,
     "metadata": {},
     "output_type": "execute_result"
    }
   ],
   "source": [
    "\"hello\"+\"world\""
   ]
  },
  {
   "cell_type": "code",
   "execution_count": 27,
   "id": "4c066291",
   "metadata": {},
   "outputs": [
    {
     "name": "stdout",
     "output_type": "stream",
     "text": [
      "------------------------------\n",
      "말자 말자 말자 말자 말자 말자 말자 말자 말자 말자 말자 말자 말자 말자 말자 말자 말자 말자 말자 말자 말자 말자 말자 말자 말자 말자 말자 말자 말자 말자 \n"
     ]
    }
   ],
   "source": [
    "Lines=\"-\" * 30\n",
    "print(Lines)\n",
    "Lines=\"말자 \" * 30\n",
    "print(Lines)"
   ]
  },
  {
   "cell_type": "code",
   "execution_count": 31,
   "id": "604139c9",
   "metadata": {
    "scrolled": true
   },
   "outputs": [
    {
     "name": "stdout",
     "output_type": "stream",
     "text": [
      "Terminator 3\n"
     ]
    }
   ],
   "source": [
    "movie = \"Terminator \" + str(3) #<<숫자를 문자로 변환\n",
    "print(movie)\n",
    "\n",
    "# movie = \"Terminator \" + 3  <<에러~~\n",
    "# print(movie)"
   ]
  },
  {
   "cell_type": "code",
   "execution_count": 32,
   "id": "859324b2",
   "metadata": {
    "scrolled": true
   },
   "outputs": [
    {
     "name": "stdout",
     "output_type": "stream",
     "text": [
      "말 한마디로\n",
      " 천냥 빚을\n",
      " 갚는다\n"
     ]
    }
   ],
   "source": [
    "print(\"말 한마디로\\n 천냥 빚을\\n 갚는다\")"
   ]
  },
  {
   "cell_type": "code",
   "execution_count": 39,
   "id": "eb1bd7a6",
   "metadata": {},
   "outputs": [
    {
     "name": "stdout",
     "output_type": "stream",
     "text": [
      "K과P과L\n"
     ]
    }
   ],
   "source": [
    "a= \"Kim\"\n",
    "b= \"Park\"\n",
    "c= \"Lee\"\n",
    "acronym = a[0]+\"과\"+b[0]+\"과\"+c[0]\n",
    "print(acronym)\n",
    " #acronym = a[0]+\"과\"+b[0]+\"과\"+c[0] 들여쓰기 조심~~~ 오류난다~"
   ]
  },
  {
   "cell_type": "code",
   "execution_count": 43,
   "id": "982b8aba",
   "metadata": {
    "scrolled": true
   },
   "outputs": [
    {
     "name": "stdout",
     "output_type": "stream",
     "text": [
      "harry parter\n",
      "HARRY PARTER\n"
     ]
    }
   ],
   "source": [
    "#파이썬은 모든 변수를 오브젝트로 선언한다.\n",
    "#즉 함수와 필드값을 가지고 있다~~\n",
    "\n",
    "name = \"Harry Parter\"\n",
    "lower_name = name.lower()\n",
    "print(lower_name)\n",
    "upper_name = name.upper()\n",
    "print(upper_name)"
   ]
  },
  {
   "cell_type": "code",
   "execution_count": null,
   "id": "8de169a9",
   "metadata": {},
   "outputs": [],
   "source": [
    "a=5\n",
    "a.numerator \n",
    "# 변수가 존재하지 않는다!\n",
    "#오브젝트일뿐! 오브젝트는 필드값과 메소드를 갖는다!\n",
    "#그래서 도트(.)연산자를 통해 접근하여 내부 메소드나 필드값을 사용할수있다."
   ]
  },
  {
   "cell_type": "code",
   "execution_count": null,
   "id": "95400c2b",
   "metadata": {},
   "outputs": [],
   "source": []
  }
 ],
 "metadata": {
  "kernelspec": {
   "display_name": "Python 3 (ipykernel)",
   "language": "python",
   "name": "python3"
  },
  "language_info": {
   "codemirror_mode": {
    "name": "ipython",
    "version": 3
   },
   "file_extension": ".py",
   "mimetype": "text/x-python",
   "name": "python",
   "nbconvert_exporter": "python",
   "pygments_lexer": "ipython3",
   "version": "3.9.12"
  }
 },
 "nbformat": 4,
 "nbformat_minor": 5
}
