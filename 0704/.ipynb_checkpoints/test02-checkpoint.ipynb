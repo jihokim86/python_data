{
 "cells": [
  {
   "cell_type": "code",
   "execution_count": 5,
   "id": "e790c921",
   "metadata": {},
   "outputs": [
    {
     "name": "stdout",
     "output_type": "stream",
     "text": [
      "원하는 단은 : 9\n",
      "9*1=9\n",
      "9*2=18\n",
      "9*3=27\n",
      "9*4=36\n",
      "9*5=45\n",
      "9*6=54\n",
      "9*7=63\n",
      "9*8=72\n",
      "9*9=81\n"
     ]
    }
   ],
   "source": [
    "# while 문을 이용한 구구단\n",
    "dan = int(input(\"원하는 단은 : \"))\n",
    "i =1\n",
    "    \n",
    "while i <=9 :\n",
    "    print(\"%d*%d=%d\" %(dan,i,dan*i))\n",
    "    i = i+1"
   ]
  },
  {
   "cell_type": "code",
   "execution_count": 11,
   "id": "6fb79cff",
   "metadata": {},
   "outputs": [
    {
     "name": "stdout",
     "output_type": "stream",
     "text": [
      "1부터 100 사이의 숫자를 맞추세요\n",
      "숫자를 입력하세요50\n",
      "너무 낮음\n",
      "숫자를 입력하세요75\n",
      "너무 높음\n",
      "숫자를 입력하세요65\n",
      "너무 높음\n",
      "숫자를 입력하세요60\n",
      "너무 높음\n",
      "숫자를 입력하세요55\n",
      "너무 높음\n",
      "숫자를 입력하세요51\n",
      "너무 낮음\n",
      "숫자를 입력하세요53\n",
      "너무 높음\n",
      "숫자를 입력하세요54\n",
      "너무 높음\n",
      "숫자를 입력하세요52\n",
      "축하합니다. 시도횟수= 9\n"
     ]
    }
   ],
   "source": [
    "# 숫자 맞추기 게임\n",
    "import random\n",
    "\n",
    "tries = 0\n",
    "guess =0\n",
    "\n",
    "answer = random.randint(1,100)\n",
    "print(\"1부터 100 사이의 숫자를 맞추세요\")\n",
    "\n",
    "while guess != answer :\n",
    "    guess = int(input(\"숫자를 입력하세요\"))\n",
    "    tries = tries +1\n",
    "    if guess < answer :\n",
    "        print(\"너무 낮음\")\n",
    "    elif guess > answer :\n",
    "        print(\"너무 높음\")\n",
    "\n",
    "if guess == answer :\n",
    "    print(\"축하합니다. 시도횟수=\",tries)\n",
    "else :\n",
    "    print(\"정답은\",answer)"
   ]
  }
 ],
 "metadata": {
  "kernelspec": {
   "display_name": "Python 3 (ipykernel)",
   "language": "python",
   "name": "python3"
  },
  "language_info": {
   "codemirror_mode": {
    "name": "ipython",
    "version": 3
   },
   "file_extension": ".py",
   "mimetype": "text/x-python",
   "name": "python",
   "nbconvert_exporter": "python",
   "pygments_lexer": "ipython3",
   "version": "3.9.12"
  }
 },
 "nbformat": 4,
 "nbformat_minor": 5
}
