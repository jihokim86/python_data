{
 "cells": [
  {
   "cell_type": "code",
   "execution_count": 2,
   "id": "59f40cff",
   "metadata": {
    "scrolled": true
   },
   "outputs": [
    {
     "name": "stdout",
     "output_type": "stream",
     "text": [
      "반지름이 3인 원의 면적 =  28.26\n"
     ]
    }
   ],
   "source": [
    "#함수 정의\n",
    "\n",
    "def get_area(radius) :\n",
    "    area = 3.14*radius**2\n",
    "    return area\n",
    "\n",
    "result = get_area(3)\n",
    "print(\"반지름이 3인 원의 면적 = \",result)"
   ]
  },
  {
   "cell_type": "code",
   "execution_count": 5,
   "id": "19c65bc0",
   "metadata": {},
   "outputs": [
    {
     "name": "stdout",
     "output_type": "stream",
     "text": [
      "x= 2 y= 3 z= 4\n"
     ]
    }
   ],
   "source": [
    "# 리턴값이 두개이상의 사용자 정의 함수\n",
    "\n",
    "def get_input() :\n",
    "    return 2,3,4\n",
    "\n",
    "x,y,z = get_input()\n",
    "print(\"x=\",x,\"y=\",y,\"z=\",z)"
   ]
  },
  {
   "cell_type": "code",
   "execution_count": 10,
   "id": "8abfc73c",
   "metadata": {
    "scrolled": false
   },
   "outputs": [
    {
     "name": "stdout",
     "output_type": "stream",
     "text": [
      "안녕 영희,별일없죠?\n",
      "안녕 영희 , 별일없죠?\n",
      "안녕 영희,괜찮니\n",
      "안녕 영희 , 괜찮니\n"
     ]
    }
   ],
   "source": [
    "# 디폴트 인수\n",
    "\n",
    "def greet(name,msg=\"별일없죠?\") :\n",
    "    print(\"안녕\",name+','+msg)\n",
    "    print(\"안녕\",name,\",\",msg)\n",
    "    \n",
    "greet(\"영희\")\n",
    "greet(\"영희\",\"괜찮니\")\n"
   ]
  }
 ],
 "metadata": {
  "kernelspec": {
   "display_name": "Python 3 (ipykernel)",
   "language": "python",
   "name": "python3"
  },
  "language_info": {
   "codemirror_mode": {
    "name": "ipython",
    "version": 3
   },
   "file_extension": ".py",
   "mimetype": "text/x-python",
   "name": "python",
   "nbconvert_exporter": "python",
   "pygments_lexer": "ipython3",
   "version": "3.9.12"
  }
 },
 "nbformat": 4,
 "nbformat_minor": 5
}
