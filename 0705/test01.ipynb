{
 "cells": [
  {
   "cell_type": "code",
   "execution_count": 5,
   "id": "4208ac02",
   "metadata": {},
   "outputs": [
    {
     "name": "stdout",
     "output_type": "stream",
     "text": [
      "47+38=10\n",
      "틀렸어요, 더이상 기회는 없다\n"
     ]
    }
   ],
   "source": [
    "# 산수 문제\n",
    "import random\n",
    "\n",
    "flag = True\n",
    "while flag :\n",
    "    x = random.randint(1,100)\n",
    "    y = random.randint(1,100)\n",
    "    answer = int(input(f\"{x}+{y}=\"))\n",
    "    if answer == x+y :\n",
    "        print(\"잘했어요\")\n",
    "    else :\n",
    "        print(\"틀렸어요, 더이상 기회는 없다\")\n",
    "        flag = False\n",
    "    "
   ]
  },
  {
   "cell_type": "code",
   "execution_count": 9,
   "id": "77bd62fc",
   "metadata": {
    "scrolled": true
   },
   "outputs": [
    {
     "name": "stdout",
     "output_type": "stream",
     "text": [
      "*\n",
      "**\n",
      "***\n",
      "****\n",
      "*****\n"
     ]
    }
   ],
   "source": [
    "#중첩 반복문\n",
    "\n",
    "for y in range(1,6) :\n",
    "    for x in range(y) : \n",
    "        print(\"*\",end=\"\")\n",
    "    print(\"\")"
   ]
  },
  {
   "cell_type": "code",
   "execution_count": 13,
   "id": "684e6fba",
   "metadata": {
    "scrolled": false
   },
   "outputs": [
    {
     "name": "stdout",
     "output_type": "stream",
     "text": [
      "첫번째 주사위=1 두번째 주사위는 =5\n",
      "첫번째 주사위=2 두번째 주사위는 =4\n",
      "첫번째 주사위=3 두번째 주사위는 =3\n",
      "첫번째 주사위=4 두번째 주사위는 =2\n",
      "첫번째 주사위=5 두번째 주사위는 =1\n"
     ]
    }
   ],
   "source": [
    "# 주사위 2개의 함이 6인 경우를 전부 출력\n",
    "\n",
    "for a in range(1,7):\n",
    "    for b in range(1,7):\n",
    "        if a+b == 6 :\n",
    "            print(f\"첫번째 주사위={a} 두번째 주사위는 ={b}\")"
   ]
  },
  {
   "cell_type": "code",
   "execution_count": 16,
   "id": "e57d3722",
   "metadata": {},
   "outputs": [
    {
     "name": "stdout",
     "output_type": "stream",
     "text": [
      "신호등 색상을 입력 :green\n",
      "전진!\n"
     ]
    }
   ],
   "source": [
    "# 무한 루틴과 break\n",
    "while True :\n",
    "    light = input(\"신호등 색상을 입력 :\")\n",
    "    if light == 'green' :\n",
    "        break\n",
    "print(\"전진!\")"
   ]
  },
  {
   "cell_type": "code",
   "execution_count": 20,
   "id": "cd3eccad",
   "metadata": {},
   "outputs": [
    {
     "name": "stdout",
     "output_type": "stream",
     "text": [
      "1 2 4 5 7 8 10 "
     ]
    }
   ],
   "source": [
    "# 1~10사이의 3의 배수가 아닌것을 출력 continue\n",
    "\n",
    "for i in range(1,11) :\n",
    "    if i%3 == 0 :\n",
    "        continue\n",
    "    print(i,end=\" \")"
   ]
  },
  {
   "cell_type": "code",
   "execution_count": 24,
   "id": "f093a264",
   "metadata": {},
   "outputs": [
    {
     "name": "stdout",
     "output_type": "stream",
     "text": [
      "2 3 5 7 11 13 17 19 23 29 31 37 41 43 47 53 59 61 67 71 73 79 83 89 97 "
     ]
    }
   ],
   "source": [
    "# 소수 찾는 프로그램 오류 찾기\n",
    "\n",
    "N_PRIMES =25\n",
    "number=2\n",
    "count =0\n",
    "\n",
    "while count < N_PRIMES :\n",
    "    divisor = 2 \n",
    "    \n",
    "    prime = True\n",
    "    while divisor < number :\n",
    "        if number % divisor ==0:\n",
    "            prime = False\n",
    "            break\n",
    "        divisor += 1\n",
    "    if prime :\n",
    "        count += 1\n",
    "        print(number,end=\" \")\n",
    "        \n",
    "    number +=1\n",
    "    "
   ]
  },
  {
   "cell_type": "code",
   "execution_count": 29,
   "id": "838646d2",
   "metadata": {},
   "outputs": [
    {
     "name": "stdout",
     "output_type": "stream",
     "text": [
      "반복회수 :500000\n",
      "Pi=3.141591\n"
     ]
    }
   ],
   "source": [
    "# 파이 값을 계산하는 프로그램\n",
    "\n",
    "divisor = 1.0\n",
    "divident = 4.0\n",
    "sum =0.0\n",
    "\n",
    "loop_count = int(input(\"반복회수 :\"))\n",
    "\n",
    "while(loop_count>0) :\n",
    "    sum = sum + divident / divisor\n",
    "    divident = -1.0 * divident\n",
    "    divisor = divisor +2\n",
    "    loop_count = loop_count -1\n",
    "print(\"Pi=%f\" %sum)"
   ]
  },
  {
   "cell_type": "code",
   "execution_count": null,
   "id": "2ad6b2a9",
   "metadata": {},
   "outputs": [],
   "source": []
  }
 ],
 "metadata": {
  "kernelspec": {
   "display_name": "Python 3 (ipykernel)",
   "language": "python",
   "name": "python3"
  },
  "language_info": {
   "codemirror_mode": {
    "name": "ipython",
    "version": 3
   },
   "file_extension": ".py",
   "mimetype": "text/x-python",
   "name": "python",
   "nbconvert_exporter": "python",
   "pygments_lexer": "ipython3",
   "version": "3.9.12"
  }
 },
 "nbformat": 4,
 "nbformat_minor": 5
}
